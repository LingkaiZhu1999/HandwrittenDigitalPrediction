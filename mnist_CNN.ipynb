{
 "cells": [
  {
   "cell_type": "code",
   "execution_count": 1,
   "metadata": {},
   "outputs": [],
   "source": [
    "%matplotlib inline\n",
    "import torch\n",
    "import torch.nn as nn\n",
    "import torch.nn.functional as F\n",
    "import torch.optim as optim\n",
    "import torchvision\n",
    "import torchvision.transforms as transforms\n",
    "import matplotlib.pyplot as plt\n",
    "\n",
    "import numpy as np\n",
    "# use GPU for computations if possible\n",
    "device = torch.device('cuda' if torch.cuda.is_available() else 'cpu')\n",
    "\n",
    "# temporarily patch this script until the MNIST data set download issue is resolved\n",
    "# https://github.com/pytorch/vision/issues/1938\n",
    "import urllib.request\n",
    "opener = urllib.request.build_opener()\n",
    "opener.addheaders = [('User-agent', 'Mozilla/5.0')]\n",
    "urllib.request.install_opener(opener)"
   ]
  },
  {
   "cell_type": "markdown",
   "metadata": {
    "colab_type": "text",
    "collapsed": true,
    "id": "2ZfaQIUpDZvO"
   },
   "source": [
    "# Classification of hand-written digits\n",
    "\n",
    "We start by downloading and extracting the MNIST data set."
   ]
  },
  {
   "cell_type": "code",
   "execution_count": 2,
   "metadata": {
    "scrolled": true
   },
   "outputs": [
    {
     "name": "stderr",
     "output_type": "stream",
     "text": [
      "C:\\Users\\zhuli\\anaconda3\\envs\\pytorchEnv\\lib\\site-packages\\torchvision\\datasets\\mnist.py:498: UserWarning: The given NumPy array is not writeable, and PyTorch does not support non-writeable tensors. This means you can write to the underlying (supposedly non-writeable) NumPy array using the tensor. You may want to copy the array to protect its data or make it writeable before converting it to a tensor. This type of warning will be suppressed for the rest of this program. (Triggered internally at  ..\\torch\\csrc\\utils\\tensor_numpy.cpp:180.)\n",
      "  return torch.from_numpy(parsed.astype(m[2], copy=False)).view(*s)\n"
     ]
    }
   ],
   "source": [
    "trainset = torchvision.datasets.MNIST(root='./data', train=True,\n",
    "                                      download=True, transform=transforms.ToTensor())\n",
    "\n",
    "testset = torchvision.datasets.MNIST(root='./data', train=False,\n",
    "                                     download=True, transform=transforms.ToTensor())\n",
    "\n",
    "# extract a complete PyTorch dataset\n",
    "def extract(dataset):\n",
    "    datasize = len(dataset)\n",
    "    dataloader = torch.utils.data.DataLoader(dataset, batch_size=datasize, shuffle=False)\n",
    "    return next(iter(dataloader))\n",
    "\n",
    "# extract all test images and labels into PyTorch tensors\n",
    "# the training data will be loaded in batches during training\n",
    "test_X, test_Y = extract(testset)"
   ]
  },
  {
   "cell_type": "markdown",
   "metadata": {
    "colab_type": "text",
    "id": "JetLsyAjDZv3"
   },
   "source": [
    "## The model\n",
    "\n",
    "The input data $X$ are grayscale images of $28\\times 28$ pixels. The first dimension will be the number of data points that are provided to the network. The input data is flattend into a matrix with $28 \\times 28 = 784$ columns using `X.view(-1, 784)`, where each colum represents one pixel. We then apply first the linear transformation $X W + b$ and then the softmax function to obtain the class probabilities predicted by the model."
   ]
  },
  {
   "cell_type": "code",
   "execution_count": 3,
   "metadata": {},
   "outputs": [],
   "source": [
    "class Net(nn.Module):\n",
    "    def __init__(self):\n",
    "        super(Net, self).__init__()\n",
    "        # the weights of dimension (784, 10)\n",
    "        U1 = 4\n",
    "        U2 = 8\n",
    "        U3 = 12\n",
    "        pzero = 0.75\n",
    "        self.W1 = nn.Parameter(0.1 * torch.randn(U1, 1, 5, 5))\n",
    "        # the offset vector of dimension (10,)\n",
    "        self.b1 = nn.Parameter(torch.ones(U1)/U1)\n",
    "        self.W2 = nn.Parameter(0.1 * torch.randn(U2, U1, 5, 5))\n",
    "        self.b2 = nn.Parameter(torch.ones(U2)/U2)\n",
    "        self.W3 = nn.Parameter(0.1 * torch.randn(U3, U2, 4, 4))\n",
    "        self.b3 = nn.Parameter(torch.ones(U3)/U3)\n",
    "        self.W4 = nn.Parameter(0.1 * torch.randn(588, 200))\n",
    "        self.b4 = nn.Parameter(torch.ones(200)/200)\n",
    "        self.dropout =  nn.Dropout(p=pzero)\n",
    "        self.W5 = nn.Parameter(0.1 * torch.randn(200, 10))\n",
    "        self.b5 = nn.Parameter(torch.ones(10)/10)\n",
    "\n",
    "    def forward(self, X):\n",
    "        # flatten the data into a matrix with 28 x 28 = 784 columns\n",
    "        #X = X.view(-1, 784)\n",
    "        # compute the linear transformation\n",
    "        #Z1 = X.mm(self.W1) + self.b1\n",
    "        Q1 = F.relu(F.conv2d(X, self.W1, bias=self.b1, stride=1, padding=2))\n",
    "        #Q1 = torch.sigmoid(Z1)\n",
    "        #Z2 = Q1.mm(self.W2) + self.b2\n",
    "        Q2 = F.relu(F.conv2d(Q1, self.W2, bias=self.b2, stride=2, padding=2))\n",
    "        #Q2 = torch.sigmoid(Z2)\n",
    "        #Z3 = Q2.mm(self.W3) + self.b3\n",
    "        Q3 = F.relu(F.conv2d(Q2, self.W3, bias=self.b3, stride=2, padding=1))\n",
    "        #Q3 = torch.sigmoid(Z3)\n",
    "        #Z4 = Q3.mm(self.W4) + self.b4\n",
    "        #Z5 = Z4.mm(self.W5) + self.b5\n",
    "        U3flat = 7*7*12\n",
    "        Q3flat = Q3.view(-1, U3flat)\n",
    "        #Q4_linear = nn.Linear(U3flat, 200, device='cuda:0')\n",
    "        #Q4 = Q4_linear(Q3flat)\n",
    "        #Q5_linear = nn.Linear(200, 10, device='cuda:0')\n",
    "        #Q5 = Q5_linear(Q4)\n",
    "        Q4 = Q3flat.mm(self.W4) + self.b4\n",
    "        Q4dropout = self.dropout(Q4)\n",
    "        Q5 = Q4dropout.mm(self.W5) + self.b5\n",
    "        #Q = torch.sigmoid(Z4)\n",
    "        #print(self.b)\n",
    "        #print(np.shape(self.W))\n",
    "        # apply the softmax function\n",
    "        #G = F.softmax(Q.mm(self.W5) + self.b5, dim=1)\n",
    "        #Z = Q.mm(self.W5) + self.b5\n",
    "        return Q5"
   ]
  },
  {
   "cell_type": "markdown",
   "metadata": {
    "colab_type": "text",
    "id": "NYMZmV_GDZwa"
   },
   "source": [
    "## The training\n",
    "\n",
    "We define the cross-entropy for the predicted probabilities $G$ (10-dimensional vectors) and the labels $Y$ (integers between 0 and 9)."
   ]
  },
  {
   "cell_type": "code",
   "execution_count": 4,
   "metadata": {
    "colab": {},
    "colab_type": "code",
    "id": "cOpD7LKcDZwe"
   },
   "outputs": [],
   "source": [
    "def crossentropy(G, Y):\n",
    "    # convert labels to onehot encoding\n",
    "    Y_onehot = torch.eye(10, device=device)[Y]\n",
    "\n",
    "    return -(Y_onehot * G.log()).sum(dim = 1).mean()"
   ]
  },
  {
   "cell_type": "markdown",
   "metadata": {
    "colab_type": "text",
    "id": "vSpeO0byDZwx"
   },
   "source": [
    "The next lines evaluate the accuracy of the predictions."
   ]
  },
  {
   "cell_type": "code",
   "execution_count": 5,
   "metadata": {
    "colab": {},
    "colab_type": "code",
    "id": "G1B5xLOnDZw0"
   },
   "outputs": [],
   "source": [
    "def accuracy(G, Y):\n",
    "    return (G.argmax(dim=1) == Y).float().mean()"
   ]
  },
  {
   "cell_type": "markdown",
   "metadata": {
    "colab_type": "text",
    "collapsed": true,
    "id": "rJ4jX9FDDZxB"
   },
   "source": [
    "We are ready to train the network."
   ]
  },
  {
   "cell_type": "code",
   "execution_count": 11,
   "metadata": {
    "scrolled": false
   },
   "outputs": [
    {
     "name": "stdout",
     "output_type": "stream",
     "text": [
      "Step     0: train accuracy   9.00% train cross-entropy  2.50  test accuracy  11.40% test cross-entropy   nan\n",
      "Step   100: train accuracy  89.00% train cross-entropy  0.36  test accuracy  86.75% test cross-entropy   nan\n",
      "Step   200: train accuracy  95.00% train cross-entropy  0.17  test accuracy  90.02% test cross-entropy   nan\n",
      "Step   300: train accuracy  88.00% train cross-entropy  0.35  test accuracy  91.14% test cross-entropy   nan\n",
      "Step   400: train accuracy  92.00% train cross-entropy  0.25  test accuracy  93.48% test cross-entropy   nan\n",
      "Step   500: train accuracy  97.00% train cross-entropy  0.15  test accuracy  94.62% test cross-entropy   nan\n",
      "Step   600: train accuracy  94.00% train cross-entropy  0.25  test accuracy  95.35% test cross-entropy   nan\n",
      "Step   700: train accuracy  95.00% train cross-entropy  0.13  test accuracy  95.59% test cross-entropy   nan\n",
      "Step   800: train accuracy  92.00% train cross-entropy  0.18  test accuracy  96.41% test cross-entropy   nan\n",
      "Step   900: train accuracy  96.00% train cross-entropy  0.15  test accuracy  96.50% test cross-entropy   nan\n",
      "Step  1000: train accuracy  96.00% train cross-entropy  0.13  test accuracy  96.27% test cross-entropy   nan\n",
      "Step  1100: train accuracy  96.00% train cross-entropy  0.11  test accuracy  96.92% test cross-entropy   nan\n",
      "Step  1200: train accuracy  98.00% train cross-entropy  0.05  test accuracy  97.06% test cross-entropy   nan\n",
      "Step  1300: train accuracy  98.00% train cross-entropy  0.07  test accuracy  96.89% test cross-entropy   nan\n",
      "Step  1400: train accuracy  96.00% train cross-entropy  0.13  test accuracy  97.32% test cross-entropy   nan\n",
      "Step  1500: train accuracy  97.00% train cross-entropy  0.06  test accuracy  97.22% test cross-entropy   nan\n",
      "Step  1600: train accuracy  99.00% train cross-entropy  0.05  test accuracy  97.32% test cross-entropy   nan\n",
      "Step  1700: train accuracy 100.00% train cross-entropy  0.03  test accuracy  97.34% test cross-entropy   nan\n",
      "Step  1800: train accuracy  98.00% train cross-entropy  0.05  test accuracy  97.48% test cross-entropy   nan\n",
      "Step  1900: train accuracy  97.00% train cross-entropy  0.08  test accuracy  97.30% test cross-entropy   nan\n",
      "Step  2000: train accuracy  97.00% train cross-entropy  0.07  test accuracy  97.82% test cross-entropy   nan\n",
      "Step  2100: train accuracy 100.00% train cross-entropy  0.02  test accuracy  97.56% test cross-entropy   nan\n",
      "Step  2200: train accuracy  96.00% train cross-entropy  0.13  test accuracy  97.47% test cross-entropy   nan\n",
      "Step  2300: train accuracy  99.00% train cross-entropy  0.04  test accuracy  97.92% test cross-entropy   nan\n",
      "Step  2400: train accuracy 100.00% train cross-entropy  0.05  test accuracy  97.70% test cross-entropy   nan\n",
      "Step  2500: train accuracy  97.00% train cross-entropy  0.07  test accuracy  98.07% test cross-entropy   nan\n",
      "Step  2600: train accuracy  98.00% train cross-entropy  0.04  test accuracy  97.72% test cross-entropy   nan\n",
      "Step  2700: train accuracy  98.00% train cross-entropy  0.05  test accuracy  97.89% test cross-entropy   nan\n",
      "Step  2800: train accuracy 100.00% train cross-entropy  0.02  test accuracy  97.90% test cross-entropy   nan\n",
      "Step  2900: train accuracy  98.00% train cross-entropy  0.07  test accuracy  97.75% test cross-entropy   nan\n",
      "Step  3000: train accuracy  99.00% train cross-entropy  0.04  test accuracy  97.93% test cross-entropy   nan\n",
      "Step  3100: train accuracy  98.00% train cross-entropy  0.07  test accuracy  97.91% test cross-entropy   nan\n",
      "Step  3200: train accuracy  98.00% train cross-entropy  0.03  test accuracy  97.93% test cross-entropy   nan\n",
      "Step  3300: train accuracy 100.00% train cross-entropy  0.02  test accuracy  98.13% test cross-entropy   nan\n",
      "Step  3400: train accuracy  98.00% train cross-entropy  0.03  test accuracy  98.02% test cross-entropy   nan\n",
      "Step  3500: train accuracy  99.00% train cross-entropy  0.03  test accuracy  98.03% test cross-entropy   nan\n",
      "Step  3600: train accuracy  98.00% train cross-entropy  0.06  test accuracy  98.09% test cross-entropy   nan\n",
      "Step  3700: train accuracy 100.00% train cross-entropy  0.02  test accuracy  98.21% test cross-entropy   nan\n",
      "Step  3800: train accuracy  98.00% train cross-entropy  0.07  test accuracy  98.12% test cross-entropy   nan\n",
      "Step  3900: train accuracy  99.00% train cross-entropy  0.05  test accuracy  98.30% test cross-entropy   nan\n",
      "Step  4000: train accuracy  99.00% train cross-entropy  0.06  test accuracy  98.12% test cross-entropy   nan\n",
      "Step  4100: train accuracy  99.00% train cross-entropy  0.01  test accuracy  98.22% test cross-entropy   nan\n",
      "Step  4200: train accuracy  97.00% train cross-entropy  0.08  test accuracy  98.15% test cross-entropy   nan\n",
      "Step  4300: train accuracy  97.00% train cross-entropy  0.05  test accuracy  98.36% test cross-entropy   nan\n",
      "Step  4400: train accuracy  97.00% train cross-entropy  0.11  test accuracy  98.14% test cross-entropy   nan\n",
      "Step  4500: train accuracy  98.00% train cross-entropy  0.09  test accuracy  98.25% test cross-entropy   nan\n",
      "Step  4600: train accuracy  96.00% train cross-entropy  0.07  test accuracy  98.34% test cross-entropy   nan\n",
      "Step  4700: train accuracy  98.00% train cross-entropy  0.05  test accuracy  98.28% test cross-entropy   nan\n",
      "Step  4800: train accuracy 100.00% train cross-entropy  0.01  test accuracy  98.06% test cross-entropy   nan\n",
      "Step  4900: train accuracy  98.00% train cross-entropy  0.05  test accuracy  98.30% test cross-entropy   nan\n",
      "Step  5000: train accuracy 100.00% train cross-entropy  0.01  test accuracy  98.36% test cross-entropy   nan\n",
      "Step  5100: train accuracy 100.00% train cross-entropy  0.01  test accuracy  98.30% test cross-entropy   nan\n",
      "Step  5200: train accuracy 100.00% train cross-entropy  0.02  test accuracy  98.02% test cross-entropy   nan\n",
      "Step  5300: train accuracy  98.00% train cross-entropy  0.06  test accuracy  98.40% test cross-entropy   nan\n",
      "Step  5400: train accuracy 100.00% train cross-entropy  0.01  test accuracy  98.08% test cross-entropy   nan\n",
      "Step  5500: train accuracy  98.00% train cross-entropy  0.05  test accuracy  98.18% test cross-entropy   nan\n",
      "Step  5600: train accuracy  99.00% train cross-entropy  0.04  test accuracy  98.30% test cross-entropy   nan\n",
      "Step  5700: train accuracy  99.00% train cross-entropy  0.02  test accuracy  98.21% test cross-entropy   nan\n",
      "Step  5800: train accuracy  98.00% train cross-entropy  0.03  test accuracy  98.47% test cross-entropy   nan\n",
      "Step  5900: train accuracy 100.00% train cross-entropy  0.01  test accuracy  98.27% test cross-entropy   nan\n",
      "Step  6000: train accuracy 100.00% train cross-entropy  0.01  test accuracy  98.55% test cross-entropy   nan\n",
      "Step  6100: train accuracy 100.00% train cross-entropy  0.01  test accuracy  98.27% test cross-entropy   nan\n",
      "Step  6200: train accuracy  98.00% train cross-entropy  0.04  test accuracy  98.47% test cross-entropy   nan\n",
      "Step  6300: train accuracy 100.00% train cross-entropy  0.01  test accuracy  98.43% test cross-entropy   nan\n",
      "Step  6400: train accuracy 100.00% train cross-entropy  0.01  test accuracy  98.25% test cross-entropy   nan\n",
      "Step  6500: train accuracy 100.00% train cross-entropy  0.02  test accuracy  98.42% test cross-entropy   nan\n",
      "Step  6600: train accuracy 100.00% train cross-entropy  0.00  test accuracy  98.19% test cross-entropy   nan\n",
      "Step  6700: train accuracy  98.00% train cross-entropy  0.03  test accuracy  98.45% test cross-entropy   nan\n",
      "Step  6800: train accuracy  97.00% train cross-entropy  0.08  test accuracy  98.31% test cross-entropy   nan\n",
      "Step  6900: train accuracy  99.00% train cross-entropy  0.04  test accuracy  98.29% test cross-entropy   nan\n",
      "Step  7000: train accuracy 100.00% train cross-entropy  0.02  test accuracy  98.33% test cross-entropy   nan\n",
      "Step  7100: train accuracy  99.00% train cross-entropy  0.02  test accuracy  98.27% test cross-entropy   nan\n",
      "Step  7200: train accuracy  99.00% train cross-entropy  0.01  test accuracy  98.39% test cross-entropy   nan\n",
      "Step  7300: train accuracy 100.00% train cross-entropy  0.00  test accuracy  98.46% test cross-entropy   nan\n",
      "Step  7400: train accuracy  98.00% train cross-entropy  0.04  test accuracy  98.48% test cross-entropy   nan\n",
      "Step  7500: train accuracy 100.00% train cross-entropy  0.01  test accuracy  98.37% test cross-entropy   nan\n"
     ]
    },
    {
     "name": "stdout",
     "output_type": "stream",
     "text": [
      "Step  7600: train accuracy  99.00% train cross-entropy  0.04  test accuracy  98.53% test cross-entropy   nan\n",
      "Step  7700: train accuracy  98.00% train cross-entropy  0.11  test accuracy  98.49% test cross-entropy   nan\n",
      "Step  7800: train accuracy  98.00% train cross-entropy  0.09  test accuracy  98.24% test cross-entropy   nan\n",
      "Step  7900: train accuracy 100.00% train cross-entropy  0.01  test accuracy  98.38% test cross-entropy   nan\n",
      "Step  8000: train accuracy  98.00% train cross-entropy  0.03  test accuracy  98.49% test cross-entropy   nan\n",
      "Step  8100: train accuracy  98.00% train cross-entropy  0.03  test accuracy  98.35% test cross-entropy   nan\n",
      "Step  8200: train accuracy  99.00% train cross-entropy  0.02  test accuracy  98.37% test cross-entropy   nan\n",
      "Step  8300: train accuracy  97.00% train cross-entropy  0.08  test accuracy  98.42% test cross-entropy   nan\n",
      "Step  8400: train accuracy 100.00% train cross-entropy  0.01  test accuracy  98.50% test cross-entropy   nan\n",
      "Step  8500: train accuracy  99.00% train cross-entropy  0.03  test accuracy  98.45% test cross-entropy   nan\n",
      "Step  8600: train accuracy  98.00% train cross-entropy  0.10  test accuracy  98.45% test cross-entropy   nan\n",
      "Step  8700: train accuracy 100.00% train cross-entropy  0.00  test accuracy  98.30% test cross-entropy   nan\n",
      "Step  8800: train accuracy  99.00% train cross-entropy  0.02  test accuracy  98.21% test cross-entropy   nan\n",
      "Step  8900: train accuracy  99.00% train cross-entropy  0.01  test accuracy  98.47% test cross-entropy   nan\n",
      "Step  9000: train accuracy  98.00% train cross-entropy  0.05  test accuracy  98.46% test cross-entropy   nan\n",
      "Step  9100: train accuracy  98.00% train cross-entropy  0.04  test accuracy  98.51% test cross-entropy   nan\n",
      "Step  9200: train accuracy 100.00% train cross-entropy  0.00  test accuracy  98.42% test cross-entropy   nan\n",
      "Step  9300: train accuracy  97.00% train cross-entropy  0.04  test accuracy  98.16% test cross-entropy   nan\n",
      "Step  9400: train accuracy 100.00% train cross-entropy  0.01  test accuracy  98.31% test cross-entropy   nan\n",
      "Step  9500: train accuracy  99.00% train cross-entropy  0.02  test accuracy  98.02% test cross-entropy   nan\n",
      "Step  9600: train accuracy  99.00% train cross-entropy  0.01  test accuracy  98.62% test cross-entropy   nan\n",
      "Step  9700: train accuracy 100.00% train cross-entropy  0.01  test accuracy  98.48% test cross-entropy   nan\n",
      "Step  9800: train accuracy  98.00% train cross-entropy  0.05  test accuracy  98.38% test cross-entropy   nan\n",
      "Step  9900: train accuracy  99.00% train cross-entropy  0.03  test accuracy  98.10% test cross-entropy   nan\n",
      "Step 10000: train accuracy 100.00% train cross-entropy  0.01  test accuracy  98.46% test cross-entropy   nan\n",
      "Step 10100: train accuracy  99.00% train cross-entropy  0.05  test accuracy  98.54% test cross-entropy   nan\n",
      "Step 10200: train accuracy  98.00% train cross-entropy  0.09  test accuracy  98.36% test cross-entropy   nan\n",
      "Step 10300: train accuracy 100.00% train cross-entropy  0.01  test accuracy  98.47% test cross-entropy   nan\n",
      "Step 10400: train accuracy 100.00% train cross-entropy  0.01  test accuracy  98.49% test cross-entropy   nan\n",
      "Step 10500: train accuracy  99.00% train cross-entropy  0.02  test accuracy  98.42% test cross-entropy   nan\n",
      "Step 10600: train accuracy  98.00% train cross-entropy  0.02  test accuracy  98.53% test cross-entropy   nan\n",
      "Step 10700: train accuracy  99.00% train cross-entropy  0.04  test accuracy  98.37% test cross-entropy   nan\n",
      "Step 10800: train accuracy  99.00% train cross-entropy  0.04  test accuracy  98.36% test cross-entropy   nan\n",
      "Step 10900: train accuracy 100.00% train cross-entropy  0.00  test accuracy  98.41% test cross-entropy   nan\n",
      "Step 11000: train accuracy 100.00% train cross-entropy  0.01  test accuracy  98.37% test cross-entropy   nan\n",
      "Step 11100: train accuracy 100.00% train cross-entropy  0.01  test accuracy  98.56% test cross-entropy   nan\n",
      "Step 11200: train accuracy  99.00% train cross-entropy  0.04  test accuracy  98.61% test cross-entropy   nan\n",
      "Step 11300: train accuracy 100.00% train cross-entropy  0.00  test accuracy  98.52% test cross-entropy   nan\n",
      "Step 11400: train accuracy 100.00% train cross-entropy  0.01  test accuracy  98.42% test cross-entropy   nan\n",
      "Step 11500: train accuracy  99.00% train cross-entropy  0.04  test accuracy  98.49% test cross-entropy   nan\n",
      "Step 11600: train accuracy 100.00% train cross-entropy  0.01  test accuracy  98.33% test cross-entropy   nan\n",
      "Step 11700: train accuracy 100.00% train cross-entropy  0.01  test accuracy  98.45% test cross-entropy   nan\n",
      "Step 11800: train accuracy  99.00% train cross-entropy  0.02  test accuracy  98.34% test cross-entropy   nan\n",
      "Step 11900: train accuracy 100.00% train cross-entropy  0.01  test accuracy  98.53% test cross-entropy   nan\n",
      "Step 12000: train accuracy 100.00% train cross-entropy  0.00  test accuracy  98.43% test cross-entropy   nan\n",
      "Step 12100: train accuracy  97.00% train cross-entropy  0.07  test accuracy  98.42% test cross-entropy   nan\n",
      "Step 12200: train accuracy 100.00% train cross-entropy  0.00  test accuracy  98.58% test cross-entropy   nan\n",
      "Step 12300: train accuracy 100.00% train cross-entropy  0.01  test accuracy  98.53% test cross-entropy   nan\n",
      "Step 12400: train accuracy 100.00% train cross-entropy  0.01  test accuracy  98.35% test cross-entropy   nan\n",
      "Step 12500: train accuracy 100.00% train cross-entropy  0.02  test accuracy  98.36% test cross-entropy   nan\n",
      "Step 12600: train accuracy 100.00% train cross-entropy  0.02  test accuracy  98.32% test cross-entropy   nan\n",
      "Step 12700: train accuracy 100.00% train cross-entropy  0.00  test accuracy  98.51% test cross-entropy   nan\n",
      "Step 12800: train accuracy 100.00% train cross-entropy  0.01  test accuracy  98.44% test cross-entropy   nan\n",
      "Step 12900: train accuracy 100.00% train cross-entropy  0.00  test accuracy  98.50% test cross-entropy   nan\n",
      "Step 13000: train accuracy 100.00% train cross-entropy  0.00  test accuracy  98.50% test cross-entropy   nan\n",
      "Step 13100: train accuracy 100.00% train cross-entropy  0.01  test accuracy  98.53% test cross-entropy   nan\n",
      "Step 13200: train accuracy 100.00% train cross-entropy  0.01  test accuracy  98.50% test cross-entropy   nan\n",
      "Step 13300: train accuracy 100.00% train cross-entropy  0.01  test accuracy  98.62% test cross-entropy   nan\n",
      "Step 13400: train accuracy 100.00% train cross-entropy  0.00  test accuracy  98.37% test cross-entropy   nan\n",
      "Step 13500: train accuracy 100.00% train cross-entropy  0.00  test accuracy  98.57% test cross-entropy   nan\n",
      "Step 13600: train accuracy  98.00% train cross-entropy  0.02  test accuracy  98.39% test cross-entropy   nan\n",
      "Step 13700: train accuracy 100.00% train cross-entropy  0.01  test accuracy  98.51% test cross-entropy   nan\n",
      "Step 13800: train accuracy  99.00% train cross-entropy  0.03  test accuracy  98.31% test cross-entropy   nan\n",
      "Step 13900: train accuracy  99.00% train cross-entropy  0.03  test accuracy  98.47% test cross-entropy   nan\n",
      "Step 14000: train accuracy  99.00% train cross-entropy  0.02  test accuracy  98.38% test cross-entropy   nan\n",
      "Step 14100: train accuracy 100.00% train cross-entropy  0.02  test accuracy  98.40% test cross-entropy   nan\n",
      "Step 14200: train accuracy 100.00% train cross-entropy  0.00  test accuracy  98.34% test cross-entropy   nan\n",
      "Step 14300: train accuracy 100.00% train cross-entropy  0.00  test accuracy  98.36% test cross-entropy   nan\n",
      "Step 14400: train accuracy  99.00% train cross-entropy  0.02  test accuracy  98.38% test cross-entropy   nan\n",
      "Step 14500: train accuracy 100.00% train cross-entropy  0.01  test accuracy  98.51% test cross-entropy   nan\n",
      "Step 14600: train accuracy 100.00% train cross-entropy  0.00  test accuracy  98.44% test cross-entropy   nan\n",
      "Step 14700: train accuracy  99.00% train cross-entropy  0.03  test accuracy  98.56% test cross-entropy   nan\n",
      "Step 14800: train accuracy  99.00% train cross-entropy  0.08  test accuracy  98.37% test cross-entropy   nan\n",
      "Step 14900: train accuracy 100.00% train cross-entropy  0.00  test accuracy  98.38% test cross-entropy   nan\n",
      "Step 15000: train accuracy  99.00% train cross-entropy  0.03  test accuracy  98.51% test cross-entropy   nan\n"
     ]
    }
   ],
   "source": [
    "# initialize the test and training error statistics\n",
    "test_accuracy = []\n",
    "test_crossentropy = []\n",
    "test_iter = []\n",
    "train_accuracy = []\n",
    "train_crossentropy = []\n",
    "train_iter = []\n",
    "\n",
    "# initialize the neural network and move it to the GPU if needed\n",
    "net = Net()\n",
    "net.to(device)\n",
    "\n",
    "# define the optimization algorithm\n",
    "learningrate = 0.005\n",
    "optimizer = optim.Adam(net.parameters(), lr=learningrate)\n",
    "gamma_min=0.0001\n",
    "gamma_max=0.003\n",
    "# define the data loader for batches of the training data\n",
    "batchsize = 100\n",
    "trainloader = torch.utils.data.DataLoader(trainset, batch_size=batchsize, num_workers=2, shuffle=True)\n",
    "\n",
    "# perform multiple training steps\n",
    "total_iterations = 12000 # total number of iterations\n",
    "t = 0 # current iteration\n",
    "done = False\n",
    "while not done:\n",
    "    gamma_new = gamma_min + (gamma_max-gamma_min)*np.exp(-t/2000)\n",
    "    for p in optimizer.param_groups:\n",
    "        p['lr'] = gamma_new\n",
    "    for (batch_X, batch_Y) in trainloader:\n",
    "        # move batch to the GPU if needed\n",
    "        batch_X, batch_Y = batch_X.to(device), batch_Y.to(device)\n",
    "\n",
    "        # zero the parameter gradients\n",
    "        optimizer.zero_grad()\n",
    "        \n",
    "        #dropout\n",
    "        net.train()\n",
    "\n",
    "        # forward pass\n",
    "        batch_G = net(batch_X)\n",
    "        loss = F.cross_entropy(batch_G, batch_Y)\n",
    "\n",
    "        # backpropagation\n",
    "        loss.backward()\n",
    "        \n",
    "        # perform gradient descent step\n",
    "        optimizer.step()\n",
    "        \n",
    "        # don't bother too much about the following lines!\n",
    "        with torch.no_grad():\n",
    "            # evaluate the performance on the training data at every 10th iteration\n",
    "            if t % 10 == 0:\n",
    "                train_crossentropy.append(loss.item())\n",
    "                train_accuracy.append(accuracy(batch_G, batch_Y).item())\n",
    "                train_iter.append(t)\n",
    "                \n",
    "            # evaluate the performance on the test data at every 100th iteration\n",
    "            if t % 100 == 0:\n",
    "                # move test data to the GPU if needed\n",
    "                X, Y = test_X.to(device), test_Y.to(device)\n",
    "                net.eval()\n",
    "\n",
    "                # compute predictions for the test data\n",
    "                G = net(X)\n",
    "                test_crossentropy.append(crossentropy(G, Y).item())\n",
    "                test_accuracy.append(accuracy(G, Y).item())\n",
    "                test_iter.append(t)\n",
    "\n",
    "                # print the iteration number and the accuracy of the predictions\n",
    "                print(f\"Step {t:5d}: train accuracy {100 * train_accuracy[-1]:6.2f}% \" \\\n",
    "                      f\"train cross-entropy {train_crossentropy[-1]:5.2f}  \" \\\n",
    "                      f\"test accuracy {100 * test_accuracy[-1]:6.2f}% \" \\\n",
    "                      f\"test cross-entropy {test_crossentropy[-1]:5.2f}\")\n",
    "            \n",
    "        # stop the training after the specified number of iterations\n",
    "        t += 1\n",
    "        if t > total_iterations:\n",
    "            done = True\n",
    "            break"
   ]
  },
  {
   "cell_type": "markdown",
   "metadata": {
    "colab_type": "text",
    "id": "wY9MEi2xDZxM"
   },
   "source": [
    "## The evaluation\n",
    "\n",
    "The remaining code produces the plots needed to evaluate the training and predictions."
   ]
  },
  {
   "cell_type": "code",
   "execution_count": 7,
   "metadata": {
    "colab": {
     "base_uri": "https://localhost:8080/",
     "height": 735
    },
    "colab_type": "code",
    "id": "L_MSLJvoD28u",
    "outputId": "2be25bd3-0568-4590-faa2-39de35251d61"
   },
   "outputs": [
    {
     "ename": "ValueError",
     "evalue": "Axis limits cannot be NaN or Inf",
     "output_type": "error",
     "traceback": [
      "\u001b[1;31m---------------------------------------------------------------------------\u001b[0m",
      "\u001b[1;31mValueError\u001b[0m                                Traceback (most recent call last)",
      "\u001b[1;32m~\\AppData\\Local\\Temp/ipykernel_19216/1008110143.py\u001b[0m in \u001b[0;36m<module>\u001b[1;34m\u001b[0m\n\u001b[0;32m      4\u001b[0m \u001b[0mplt\u001b[0m\u001b[1;33m.\u001b[0m\u001b[0mxlabel\u001b[0m\u001b[1;33m(\u001b[0m\u001b[1;34m'Iteration'\u001b[0m\u001b[1;33m)\u001b[0m\u001b[1;33m\u001b[0m\u001b[1;33m\u001b[0m\u001b[0m\n\u001b[0;32m      5\u001b[0m \u001b[0mplt\u001b[0m\u001b[1;33m.\u001b[0m\u001b[0mylabel\u001b[0m\u001b[1;33m(\u001b[0m\u001b[1;34m'Cross-entropy'\u001b[0m\u001b[1;33m)\u001b[0m\u001b[1;33m\u001b[0m\u001b[1;33m\u001b[0m\u001b[0m\n\u001b[1;32m----> 6\u001b[1;33m \u001b[0mplt\u001b[0m\u001b[1;33m.\u001b[0m\u001b[0mylim\u001b[0m\u001b[1;33m(\u001b[0m\u001b[1;33m[\u001b[0m\u001b[1;36m0\u001b[0m\u001b[1;33m,\u001b[0m \u001b[0mmin\u001b[0m\u001b[1;33m(\u001b[0m\u001b[0mtest_crossentropy\u001b[0m\u001b[1;33m)\u001b[0m \u001b[1;33m*\u001b[0m \u001b[1;36m3\u001b[0m\u001b[1;33m]\u001b[0m\u001b[1;33m)\u001b[0m\u001b[1;33m\u001b[0m\u001b[1;33m\u001b[0m\u001b[0m\n\u001b[0m\u001b[0;32m      7\u001b[0m \u001b[0mplt\u001b[0m\u001b[1;33m.\u001b[0m\u001b[0mtitle\u001b[0m\u001b[1;33m(\u001b[0m\u001b[1;34m'Cross-entropy'\u001b[0m\u001b[1;33m)\u001b[0m\u001b[1;33m\u001b[0m\u001b[1;33m\u001b[0m\u001b[0m\n\u001b[0;32m      8\u001b[0m \u001b[0mplt\u001b[0m\u001b[1;33m.\u001b[0m\u001b[0mgrid\u001b[0m\u001b[1;33m(\u001b[0m\u001b[1;32mTrue\u001b[0m\u001b[1;33m)\u001b[0m\u001b[1;33m\u001b[0m\u001b[1;33m\u001b[0m\u001b[0m\n",
      "\u001b[1;32m~\\anaconda3\\envs\\pytorchEnv\\lib\\site-packages\\matplotlib\\pyplot.py\u001b[0m in \u001b[0;36mylim\u001b[1;34m(*args, **kwargs)\u001b[0m\n\u001b[0;32m   1734\u001b[0m     \u001b[1;32mif\u001b[0m \u001b[1;32mnot\u001b[0m \u001b[0margs\u001b[0m \u001b[1;32mand\u001b[0m \u001b[1;32mnot\u001b[0m \u001b[0mkwargs\u001b[0m\u001b[1;33m:\u001b[0m\u001b[1;33m\u001b[0m\u001b[1;33m\u001b[0m\u001b[0m\n\u001b[0;32m   1735\u001b[0m         \u001b[1;32mreturn\u001b[0m \u001b[0max\u001b[0m\u001b[1;33m.\u001b[0m\u001b[0mget_ylim\u001b[0m\u001b[1;33m(\u001b[0m\u001b[1;33m)\u001b[0m\u001b[1;33m\u001b[0m\u001b[1;33m\u001b[0m\u001b[0m\n\u001b[1;32m-> 1736\u001b[1;33m     \u001b[0mret\u001b[0m \u001b[1;33m=\u001b[0m \u001b[0max\u001b[0m\u001b[1;33m.\u001b[0m\u001b[0mset_ylim\u001b[0m\u001b[1;33m(\u001b[0m\u001b[1;33m*\u001b[0m\u001b[0margs\u001b[0m\u001b[1;33m,\u001b[0m \u001b[1;33m**\u001b[0m\u001b[0mkwargs\u001b[0m\u001b[1;33m)\u001b[0m\u001b[1;33m\u001b[0m\u001b[1;33m\u001b[0m\u001b[0m\n\u001b[0m\u001b[0;32m   1737\u001b[0m     \u001b[1;32mreturn\u001b[0m \u001b[0mret\u001b[0m\u001b[1;33m\u001b[0m\u001b[1;33m\u001b[0m\u001b[0m\n\u001b[0;32m   1738\u001b[0m \u001b[1;33m\u001b[0m\u001b[0m\n",
      "\u001b[1;32m~\\anaconda3\\envs\\pytorchEnv\\lib\\site-packages\\matplotlib\\axes\\_base.py\u001b[0m in \u001b[0;36mset_ylim\u001b[1;34m(self, bottom, top, emit, auto, ymin, ymax)\u001b[0m\n\u001b[0;32m   4009\u001b[0m         \u001b[0mself\u001b[0m\u001b[1;33m.\u001b[0m\u001b[0m_process_unit_info\u001b[0m\u001b[1;33m(\u001b[0m\u001b[1;33m[\u001b[0m\u001b[1;33m(\u001b[0m\u001b[1;34m\"y\"\u001b[0m\u001b[1;33m,\u001b[0m \u001b[1;33m(\u001b[0m\u001b[0mbottom\u001b[0m\u001b[1;33m,\u001b[0m \u001b[0mtop\u001b[0m\u001b[1;33m)\u001b[0m\u001b[1;33m)\u001b[0m\u001b[1;33m]\u001b[0m\u001b[1;33m,\u001b[0m \u001b[0mconvert\u001b[0m\u001b[1;33m=\u001b[0m\u001b[1;32mFalse\u001b[0m\u001b[1;33m)\u001b[0m\u001b[1;33m\u001b[0m\u001b[1;33m\u001b[0m\u001b[0m\n\u001b[0;32m   4010\u001b[0m         \u001b[0mbottom\u001b[0m \u001b[1;33m=\u001b[0m \u001b[0mself\u001b[0m\u001b[1;33m.\u001b[0m\u001b[0m_validate_converted_limits\u001b[0m\u001b[1;33m(\u001b[0m\u001b[0mbottom\u001b[0m\u001b[1;33m,\u001b[0m \u001b[0mself\u001b[0m\u001b[1;33m.\u001b[0m\u001b[0mconvert_yunits\u001b[0m\u001b[1;33m)\u001b[0m\u001b[1;33m\u001b[0m\u001b[1;33m\u001b[0m\u001b[0m\n\u001b[1;32m-> 4011\u001b[1;33m         \u001b[0mtop\u001b[0m \u001b[1;33m=\u001b[0m \u001b[0mself\u001b[0m\u001b[1;33m.\u001b[0m\u001b[0m_validate_converted_limits\u001b[0m\u001b[1;33m(\u001b[0m\u001b[0mtop\u001b[0m\u001b[1;33m,\u001b[0m \u001b[0mself\u001b[0m\u001b[1;33m.\u001b[0m\u001b[0mconvert_yunits\u001b[0m\u001b[1;33m)\u001b[0m\u001b[1;33m\u001b[0m\u001b[1;33m\u001b[0m\u001b[0m\n\u001b[0m\u001b[0;32m   4012\u001b[0m \u001b[1;33m\u001b[0m\u001b[0m\n\u001b[0;32m   4013\u001b[0m         \u001b[1;32mif\u001b[0m \u001b[0mbottom\u001b[0m \u001b[1;32mis\u001b[0m \u001b[1;32mNone\u001b[0m \u001b[1;32mor\u001b[0m \u001b[0mtop\u001b[0m \u001b[1;32mis\u001b[0m \u001b[1;32mNone\u001b[0m\u001b[1;33m:\u001b[0m\u001b[1;33m\u001b[0m\u001b[1;33m\u001b[0m\u001b[0m\n",
      "\u001b[1;32m~\\anaconda3\\envs\\pytorchEnv\\lib\\site-packages\\matplotlib\\axes\\_base.py\u001b[0m in \u001b[0;36m_validate_converted_limits\u001b[1;34m(self, limit, convert)\u001b[0m\n\u001b[0;32m   3599\u001b[0m             if (isinstance(converted_limit, Real)\n\u001b[0;32m   3600\u001b[0m                     and not np.isfinite(converted_limit)):\n\u001b[1;32m-> 3601\u001b[1;33m                 \u001b[1;32mraise\u001b[0m \u001b[0mValueError\u001b[0m\u001b[1;33m(\u001b[0m\u001b[1;34m\"Axis limits cannot be NaN or Inf\"\u001b[0m\u001b[1;33m)\u001b[0m\u001b[1;33m\u001b[0m\u001b[1;33m\u001b[0m\u001b[0m\n\u001b[0m\u001b[0;32m   3602\u001b[0m             \u001b[1;32mreturn\u001b[0m \u001b[0mconverted_limit\u001b[0m\u001b[1;33m\u001b[0m\u001b[1;33m\u001b[0m\u001b[0m\n\u001b[0;32m   3603\u001b[0m \u001b[1;33m\u001b[0m\u001b[0m\n",
      "\u001b[1;31mValueError\u001b[0m: Axis limits cannot be NaN or Inf"
     ]
    },
    {
     "data": {
      "image/png": "[encoded data removed]",
      "text/plain": [
       "<Figure size 432x288 with 1 Axes>"
      ]
     },
     "metadata": {
      "needs_background": "light"
     },
     "output_type": "display_data"
    }
   ],
   "source": [
    "# plot the cross-entropy\n",
    "plt.plot(train_iter, train_crossentropy, 'b-', label='Training data (mini-batch)')\n",
    "plt.plot(test_iter, test_crossentropy, 'r-', label='Test data')\n",
    "plt.xlabel('Iteration')\n",
    "plt.ylabel('Cross-entropy')\n",
    "plt.ylim([0, min(test_crossentropy) * 3])\n",
    "plt.title('Cross-entropy')\n",
    "plt.grid(True)\n",
    "plt.legend(loc='best')\n",
    "plt.show()\n",
    "\n",
    "# plot the accuracy\n",
    "plt.plot(train_iter, train_accuracy, 'b-', label='Training data (mini-batch)')\n",
    "plt.plot(test_iter, test_accuracy, 'r-', label='Test data')\n",
    "plt.xlabel('Iteration')\n",
    "plt.ylabel('Prediction accuracy')\n",
    "plt.ylim([max(1 - (1 - test_accuracy[-1]) * 2, 0), 1])\n",
    "plt.title('Prediction accuracy')\n",
    "plt.grid(True)\n",
    "plt.legend(loc='best')\n",
    "plt.show()"
   ]
  },
  {
   "cell_type": "code",
   "execution_count": null,
   "metadata": {
    "colab": {
     "base_uri": "https://localhost:8080/",
     "height": 575
    },
    "colab_type": "code",
    "id": "caWJ8PwaDZxO",
    "outputId": "1d3e738d-e278-425a-ddb7-bcda6a4565f4",
    "scrolled": false
   },
   "outputs": [],
   "source": [
    "# evaluate the network on 100 random test images\n",
    "with torch.no_grad():\n",
    "    # obtain 100 random samples from the test data set\n",
    "    random_X, random_Y = next(iter(torch.utils.data.DataLoader(testset, batch_size=100, shuffle=True)))\n",
    "    \n",
    "    # move data to the GPU if needed\n",
    "    random_X, random_Y = random_X.to(device), random_Y.to(device)\n",
    "    \n",
    "    # compute the predictions for the sampled inputs\n",
    "    random_G = net(random_X)\n",
    "    random_Yhat = random_G.argmax(dim=1)\n",
    "    print(\"Accuracy: \",sum(random_Yhat == random_Y)/100)\n",
    "\n",
    "    # sort the predictions with the incorrect ones first\n",
    "    indices_incorrect_first = (random_Yhat == random_Y).float().argsort()\n",
    "\n",
    "# plot the images\n",
    "num_rows = 10\n",
    "num_cols = 10\n",
    "num_images = num_rows * num_cols\n",
    "plt.figure(figsize=(num_cols, num_rows))\n",
    "\n",
    "for i, index in enumerate(indices_incorrect_first, 1):\n",
    "    plt.subplot(num_rows, num_cols, i)\n",
    "    plt.xticks([])\n",
    "    plt.yticks([])\n",
    "    \n",
    "    # plot the image\n",
    "    plt.imshow(random_X[index, :, :].view(28, 28).cpu().numpy(), cmap=plt.cm.binary)\n",
    "    \n",
    "    # add the prediction as annotation (incorrect predictions in red, correct ones in blue)\n",
    "    color = 'blue' if random_Yhat[index] == random_Y[index] else 'red'\n",
    "    plt.text(0, 25, random_Yhat[index].item(), fontsize=25, color=color)\n",
    "        \n",
    "plt.show()"
   ]
  },
  {
   "cell_type": "code",
   "execution_count": null,
   "metadata": {},
   "outputs": [],
   "source": []
  },
  {
   "cell_type": "code",
   "execution_count": null,
   "metadata": {},
   "outputs": [],
   "source": []
  },
  {
   "cell_type": "code",
   "execution_count": null,
   "metadata": {},
   "outputs": [],
   "source": []
  }
 ],
 "metadata": {
  "@webio": {
   "lastCommId": null,
   "lastKernelId": null
  },
  "anaconda-cloud": {},
  "colab": {
   "name": "mnist_one_layer.ipynb",
   "provenance": [],
   "version": "0.3.2"
  },
  "kernelspec": {
   "display_name": "Python 3 (ipykernel)",
   "language": "python",
   "name": "python3"
  },
  "language_info": {
   "codemirror_mode": {
    "name": "ipython",
    "version": 3
   },
   "file_extension": ".py",
   "mimetype": "text/x-python",
   "name": "python",
   "nbconvert_exporter": "python",
   "pygments_lexer": "ipython3",
   "version": "3.8.11"
  }
 },
 "nbformat": 4,
 "nbformat_minor": 1
}
